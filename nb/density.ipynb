{
 "cells": [
  {
   "cell_type": "markdown",
   "id": "313b92fc-6d2b-4ea1-acaf-57b58d420aeb",
   "metadata": {},
   "source": [
    "## Computing the galaxy density CGF on DESI DR1 blinded data"
   ]
  },
  {
   "cell_type": "code",
   "execution_count": 1,
   "id": "b962176c-b3e3-4ceb-a86b-d4dece960d38",
   "metadata": {
    "tags": []
   },
   "outputs": [],
   "source": [
    "import os\n",
    "import numpy as np\n",
    "from matplotlib import pyplot as plt\n",
    "from mockfactory import Catalog\n",
    "from pypower import CatalogMesh\n",
    "from pypower.utils import sky_to_cartesian\n",
    "from cosmoprimo.fiducial import DESI\n",
    "from density import Density\n",
    "\n",
    "plt.style.use(os.path.join(os.path.abspath('./'), 'plot_style.mplstyle'))"
   ]
  },
  {
   "cell_type": "code",
   "execution_count": 4,
   "id": "ebbfc6d0-3ca3-4818-a8e2-330b1dacfa52",
   "metadata": {
    "tags": []
   },
   "outputs": [],
   "source": [
    "# Y1 blinded data\n",
    "data_fn = '/global/cfs/cdirs/desi/survey/catalogs/Y1/LSS/iron/LSScats/v1.1/blinded/LRG_SGC_clustering.dat.fits'\n",
    "randoms_fn = '/global/cfs/cdirs/desi/survey/catalogs/Y1/LSS/iron/LSScats/v1.1/blinded/LRG_SGC_{}_clustering.ran.fits'\n",
    "\n",
    "# Cubic box\n",
    "data_fn = '/global/cfs/cdirs/desi/cosmosim/SecondGenMocks/CubicBox/LRG/z0.800/AbacusSummit_base_c000_ph000/LRG_redshift_space.fits'\n",
    "\n",
    "# Gillian's diffsky cubic mock\n",
    "data_fn = '/global/cfs/cdirs/desi/users/gbeltzmo/C3EMC/UNIT/galsampled_diffsky_mock_67120_fixedAmp_001_mass_conc_v0.3.hdf5'\n",
    "\n",
    "from astropy.table import Table\n",
    "data = Table.read(data_fn, path=\"data\")\n",
    "\n",
    "#data = Catalog.read(data_fn)\n",
    "#randoms = Catalog.concatenate([Catalog.read(randoms_fn.format(i)) for i in range(18)]) "
   ]
  },
  {
   "cell_type": "code",
   "execution_count": 3,
   "id": "ec702496-20d9-4f2e-8fba-4c6f9893b4d6",
   "metadata": {
    "tags": []
   },
   "outputs": [],
   "source": [
    "cosmology = DESI()\n",
    "bg = cosmology.get_background()\n",
    "z = 0.5\n",
    "hz = 100*bg.efunc(z)\n",
    "\n",
    "def get_rsd_positions(pos, vel, los, z, hz):\n",
    "    a = 1/(1+z)\n",
    "\n",
    "    vlos = np.array([1. * (los == axis) for axis in 'xyz'])\n",
    "    pos_rsd = pos + (vel * vlos[:, None])/(a*hz)\n",
    "\n",
    "    return pos_rsd\n",
    "\n",
    "#data_positions = get_rsd_positions(np.array(data['pos']).T, np.array(data['vel']).T, los='x', z=z, hz=hz)"
   ]
  },
  {
   "cell_type": "code",
   "execution_count": 24,
   "id": "0291e192-ce05-4ea6-a0cc-a7c1cfd75d80",
   "metadata": {},
   "outputs": [],
   "source": [
    "data_positions = [data['x'], data['y'], data['z']]\n",
    "\n",
    "#data_positions = [data['RA'], data['DEC'], DESI().comoving_radial_distance(data['Z'])]\n",
    "#randoms_positions = [randoms['RA'], randoms['DEC'], DESI().comoving_radial_distance(randoms['Z'])]"
   ]
  },
  {
   "cell_type": "code",
   "execution_count": 25,
   "id": "a1894e2e-79dc-47d8-bc25-d8ffbb6c1fc1",
   "metadata": {
    "tags": []
   },
   "outputs": [],
   "source": [
    "density = Density(data_positions=data_positions)\n",
    "#density = Density(data_positions=data_positions, randoms_positions=randoms_positions, position_type='rdd', data_weights=data['WEIGHT'], randoms_weights=randoms['WEIGHT'])"
   ]
  },
  {
   "cell_type": "code",
   "execution_count": 26,
   "id": "e8f58b17-51d8-47de-8d9f-21f213c66139",
   "metadata": {
    "tags": []
   },
   "outputs": [
    {
     "name": "stdout",
     "output_type": "stream",
     "text": [
      "(3, 6746545)\n",
      "Elapsed time: 24.00 s\n"
     ]
    }
   ],
   "source": [
    "import time\n",
    "t0 = time.time()\n",
    "density.compute_density(smoothing_radius=20, cellsize=10) #, min_ran=0.1)\n",
    "print('Elapsed time: {:.2f} s'.format(time.time() - t0))"
   ]
  },
  {
   "cell_type": "code",
   "execution_count": 27,
   "id": "4f58d020-d854-4499-865a-1133f8d6a818",
   "metadata": {
    "tags": []
   },
   "outputs": [
    {
     "data": {
      "text/plain": [
       "array([-1.        , -1.        , -1.        , ..., -1.        ,\n",
       "       -1.        ,  9.57509414])"
      ]
     },
     "execution_count": 27,
     "metadata": {},
     "output_type": "execute_result"
    }
   ],
   "source": [
    "density.density"
   ]
  },
  {
   "cell_type": "code",
   "execution_count": 28,
   "id": "cd69c0c5-a294-4e90-bb67-b8bb554c417a",
   "metadata": {
    "tags": []
   },
   "outputs": [
    {
     "data": {
      "image/png": "[encoded data removed]",
      "text/plain": [
       "<Figure size 400x300 with 1 Axes>"
      ]
     },
     "metadata": {},
     "output_type": "display_data"
    }
   ],
   "source": [
    "plt.figure(figsize=(4, 3))\n",
    "plt.hist(density.density[~((np.isnan(density.density)) | (density.density<0))].ravel(), density=True, alpha=0.5, bins=50)\n",
    "#plt.hist(density.density_mesh[~np.isnan(density.density_mesh)].ravel(), density=True, alpha=0.5, bins=100)\n",
    "plt.xlabel(r'$\\delta$')\n",
    "plt.show()"
   ]
  },
  {
   "cell_type": "code",
   "execution_count": 14,
   "id": "a6638eef-6760-4d80-ba60-8047377f6147",
   "metadata": {
    "tags": []
   },
   "outputs": [],
   "source": [
    "np.save('/global/cfs/cdirs/desi/users/mpinon/density/galsampled_diffsky_mock_67120_fixedAmp_001_mass_conc_v0.3_density_r20_cellsize10_randomsampling.npy', density.density[~((np.isnan(density.density)) | (density.density<0))].ravel())"
   ]
  },
  {
   "cell_type": "code",
   "execution_count": 15,
   "id": "84090867-bbd7-436d-8119-155e05b75a87",
   "metadata": {
    "tags": []
   },
   "outputs": [],
   "source": [
    "#test = np.load('/global/cfs/cdirs/desi/users/mpinon/density/y1/blinded/v1.1/LRG_SGC_density_r20_cellsize10_nran18_minran0.1_randomsampling.npy')\n",
    "test = np.load('/global/cfs/cdirs/desi/users/mpinon/density/galsampled_diffsky_mock_67120_fixedAmp_001_mass_conc_v0.3_density_r20_cellsize10_randomsampling.npy')\n",
    "#test2 = np.load('/global/cfs/cdirs/desi/users/mpinon/density/y1/blinded/v1.1/LRG_SGC_density_r20_cellsize10_nran18_minran0.1_inputrandomssampling.npy')"
   ]
  },
  {
   "cell_type": "code",
   "execution_count": 16,
   "id": "fd80d270-d1ab-49f2-bdaa-9dcca67ae7f1",
   "metadata": {
    "tags": []
   },
   "outputs": [
    {
     "data": {
      "image/png": "[encoded data removed]",
      "text/plain": [
       "<Figure size 400x300 with 1 Axes>"
      ]
     },
     "metadata": {},
     "output_type": "display_data"
    }
   ],
   "source": [
    "plt.figure(figsize=(4, 3))\n",
    "plt.hist(test[~np.isnan(test)].ravel(), density=True, alpha=0.5, bins=50)\n",
    "#plt.hist(test2[~np.isnan(test2)].ravel(), density=True, alpha=0.5, bins=50)\n",
    "plt.xlabel(r'$\\delta$')\n",
    "plt.show()"
   ]
  },
  {
   "cell_type": "code",
   "execution_count": 17,
   "id": "b820a622-0874-42be-859c-d8dada8b793a",
   "metadata": {
    "tags": []
   },
   "outputs": [],
   "source": [
    "lda = np.linspace(-5, 3, 50)"
   ]
  },
  {
   "cell_type": "code",
   "execution_count": 18,
   "id": "3ca32167-b8c7-4e12-9639-2cc3826a835c",
   "metadata": {
    "tags": []
   },
   "outputs": [],
   "source": [
    "def compute_cgf(density, lda):\n",
    "    return np.log(np.mean(np.exp(lda[:, None]*density.flatten()), axis=1))"
   ]
  },
  {
   "cell_type": "code",
   "execution_count": 19,
   "id": "e69c29bd-b181-403a-b1c0-0d92d6ced76e",
   "metadata": {
    "tags": []
   },
   "outputs": [],
   "source": [
    "#cgf = compute_cgf(density.density[~np.isnan(density.density)].ravel(), lda)\n",
    "cgf = compute_cgf(test, lda)"
   ]
  },
  {
   "cell_type": "code",
   "execution_count": 22,
   "id": "a1904010-4793-4873-8794-b08c0b253098",
   "metadata": {
    "tags": []
   },
   "outputs": [
    {
     "data": {
      "image/png": "[encoded data removed]",
      "text/plain": [
       "<Figure size 400x300 with 1 Axes>"
      ]
     },
     "metadata": {},
     "output_type": "display_data"
    }
   ],
   "source": [
    "plt.figure(figsize=(4, 3))\n",
    "plt.plot(lda, cgf)\n",
    "plt.xlabel(r'$\\lambda$')\n",
    "plt.ylabel(r'$\\phi(\\lambda)$')\n",
    "#plt.title('LRG SGC (blinded v1.1)')\n",
    "#plt.savefig('/global/cfs/cdirs/desi/users/mpinon/density/plots/LRG_SGC_density_r20_cellsize10_nran18_minran0.1_randomsampling_CGF.pdf')\n",
    "plt.savefig('/global/cfs/cdirs/desi/users/mpinon/density/plots/galsampled_diffsky_mock_67120_fixedAmp_001_mass_conc_v0.3_density_r20_cellsize10_randomsampling_CGF.pdf')\n",
    "plt.show()"
   ]
  }
 ],
 "metadata": {
  "kernelspec": {
   "display_name": "cosmodesi-main",
   "language": "python",
   "name": "cosmodesi-main"
  },
  "language_info": {
   "codemirror_mode": {
    "name": "ipython",
    "version": 3
   },
   "file_extension": ".py",
   "mimetype": "text/x-python",
   "name": "python",
   "nbconvert_exporter": "python",
   "pygments_lexer": "ipython3",
   "version": "3.10.13"
  }
 },
 "nbformat": 4,
 "nbformat_minor": 5
}
